{
 "cells": [
  {
   "cell_type": "code",
   "execution_count": 1,
   "metadata": {},
   "outputs": [],
   "source": [
    "import pandas as pd"
   ]
  },
  {
   "cell_type": "code",
   "execution_count": 2,
   "metadata": {},
   "outputs": [],
   "source": [
    "# Load data for badminton\n",
    "data_badminton = pd.read_csv(\"reviews_data_dump/reviews_badminton/data.csv\")\n",
    "\n",
    "# Load data for tawa\n",
    "data_tawa = pd.read_csv(\"reviews_data_dump/reviews_tawa/data.csv\")\n",
    "\n",
    "# Load data for tea\n",
    "data_tea = pd.read_csv(\"reviews_data_dump/reviews_tea/data.csv\")"
   ]
  },
  {
   "cell_type": "code",
   "execution_count": 3,
   "metadata": {},
   "outputs": [
    {
     "name": "stdout",
     "output_type": "stream",
     "text": [
      "EDA for data_badminton:\n",
      "<class 'pandas.core.frame.DataFrame'>\n",
      "RangeIndex: 8518 entries, 0 to 8517\n",
      "Data columns (total 8 columns):\n",
      " #   Column           Non-Null Count  Dtype  \n",
      "---  ------           --------------  -----  \n",
      " 0   Reviewer Name    8508 non-null   object \n",
      " 1   Review Title     8508 non-null   object \n",
      " 2   Place of Review  8468 non-null   object \n",
      " 3   Up Votes         8508 non-null   float64\n",
      " 4   Down Votes       8508 non-null   float64\n",
      " 5   Month            8053 non-null   object \n",
      " 6   Review text      8510 non-null   object \n",
      " 7   Ratings          8518 non-null   int64  \n",
      "dtypes: float64(2), int64(1), object(5)\n",
      "memory usage: 532.5+ KB\n",
      "None\n",
      "          Up Votes   Down Votes      Ratings\n",
      "count  8508.000000  8508.000000  8518.000000\n",
      "mean      0.391396     0.121768     4.181028\n",
      "std      11.613909     3.248022     1.262200\n",
      "min       0.000000     0.000000     1.000000\n",
      "25%       0.000000     0.000000     4.000000\n",
      "50%       0.000000     0.000000     5.000000\n",
      "75%       0.000000     0.000000     5.000000\n",
      "max     889.000000   219.000000     5.000000\n",
      "\n",
      "EDA for data_tawa:\n",
      "<class 'pandas.core.frame.DataFrame'>\n",
      "RangeIndex: 2531 entries, 0 to 2530\n",
      "Data columns (total 8 columns):\n",
      " #   Column           Non-Null Count  Dtype  \n",
      "---  ------           --------------  -----  \n",
      " 0   Reviewer_Name    2531 non-null   object \n",
      " 1   Reviewer_Rating  2285 non-null   float64\n",
      " 2   Review_Title     2531 non-null   object \n",
      " 3   Review_Text      2531 non-null   object \n",
      " 4   Place_of_Review  2531 non-null   object \n",
      " 5   Date_of_Review   2531 non-null   object \n",
      " 6   Up_Votes         2531 non-null   int64  \n",
      " 7   Down_Votes       2531 non-null   int64  \n",
      "dtypes: float64(1), int64(2), object(5)\n",
      "memory usage: 158.3+ KB\n",
      "None\n",
      "       Reviewer_Rating     Up_Votes   Down_Votes\n",
      "count      2285.000000  2531.000000  2531.000000\n",
      "mean          4.490153     1.668906     0.493876\n",
      "std           0.708662    15.462623     5.485326\n",
      "min           3.000000     0.000000     0.000000\n",
      "25%           4.000000     0.000000     0.000000\n",
      "50%           5.000000     0.000000     0.000000\n",
      "75%           5.000000     0.000000     0.000000\n",
      "max           5.000000   378.000000   144.000000\n",
      "\n",
      "EDA for data_tea:\n",
      "<class 'pandas.core.frame.DataFrame'>\n",
      "RangeIndex: 9170 entries, 0 to 9169\n",
      "Data columns (total 8 columns):\n",
      " #   Column           Non-Null Count  Dtype \n",
      "---  ------           --------------  ----- \n",
      " 0   reviewer_name    9170 non-null   object\n",
      " 1   reviewer_rating  9170 non-null   int64 \n",
      " 2   review_title     9170 non-null   object\n",
      " 3   review_text      9170 non-null   object\n",
      " 4   place_of_review  9170 non-null   object\n",
      " 5   Date_of_review   9170 non-null   object\n",
      " 6   up_votes         9170 non-null   int64 \n",
      " 7   Down_votes       9170 non-null   int64 \n",
      "dtypes: int64(3), object(5)\n",
      "memory usage: 573.2+ KB\n",
      "None\n",
      "       reviewer_rating     up_votes   Down_votes\n",
      "count      9170.000000  9170.000000  9170.000000\n",
      "mean          4.400000    80.747001    24.300000\n",
      "std           1.200065    78.390238    24.602358\n",
      "min           1.000000    13.000000     2.000000\n",
      "25%           4.000000    26.000000     5.000000\n",
      "50%           5.000000    50.500000    16.000000\n",
      "75%           5.000000    89.000000    29.000000\n",
      "max           5.000000   236.000000    79.000000\n"
     ]
    }
   ],
   "source": [
    "# EDA for data_badminton\n",
    "print(\"EDA for data_badminton:\")\n",
    "print(data_badminton.info())\n",
    "print(data_badminton.describe())\n",
    "\n",
    "# EDA for data_tawa\n",
    "print(\"\\nEDA for data_tawa:\")\n",
    "print(data_tawa.info())\n",
    "print(data_tawa.describe())\n",
    "\n",
    "# EDA for data_tea\n",
    "print(\"\\nEDA for data_tea:\")\n",
    "print(data_tea.info())\n",
    "print(data_tea.describe())"
   ]
  },
  {
   "cell_type": "code",
   "execution_count": 4,
   "metadata": {},
   "outputs": [],
   "source": [
    "# Rename columns to have consistent names\n",
    "data_badminton.rename(columns={'Reviewer Name': 'reviewer_name',\n",
    "                                'Review Title': 'review_title',\n",
    "                                'Place of Review': 'place_of_review',\n",
    "                                'Up Votes': 'up_votes',\n",
    "                                'Down Votes': 'down_votes',\n",
    "                                'Month': 'date_of_review',\n",
    "                                'Review text': 'review_text',\n",
    "                                'Ratings': 'reviewer_rating'}, inplace=True)\n",
    "\n",
    "data_tawa.rename(columns={'Reviewer_Name': 'reviewer_name',\n",
    "                            'Reviewer_Rating': 'reviewer_rating',\n",
    "                            'Review_Title': 'review_title',\n",
    "                            'Review_Text': 'review_text',\n",
    "                            'Place_of_Review': 'place_of_review',\n",
    "                            'Date_of_Review': 'date_of_review',\n",
    "                            'Up_Votes': 'up_votes',\n",
    "                            'Down_Votes': 'down_votes'}, inplace=True)\n",
    "\n",
    "data_tea.rename(columns={'reviewer_rating': 'reviewer_rating',\n",
    "                            'reviewer_name': 'reviewer_name',\n",
    "                            'review_title': 'review_title',\n",
    "                            'review_text': 'review_text',\n",
    "                            'place_of_review': 'place_of_review',\n",
    "                            'Date_of_review': 'date_of_review',\n",
    "                            'up_votes': 'up_votes',\n",
    "                            'Down_votes': 'down_votes'}, inplace=True)"
   ]
  },
  {
   "cell_type": "code",
   "execution_count": 5,
   "metadata": {},
   "outputs": [],
   "source": [
    "# Add a 'Product' column to each dataset\n",
    "data_badminton['Product'] = 'Badminton'\n",
    "data_tawa['Product'] = 'Tawa'\n",
    "data_tea['Product'] = 'Tea'\n",
    "\n",
    "# Concatenate datasets for easier analysis\n",
    "data_combined = pd.concat([data_badminton, data_tawa, data_tea], ignore_index=True)"
   ]
  },
  {
   "cell_type": "code",
   "execution_count": 6,
   "metadata": {},
   "outputs": [
    {
     "data": {
      "text/plain": [
       "Index(['reviewer_name', 'review_title', 'place_of_review', 'up_votes',\n",
       "       'down_votes', 'date_of_review', 'review_text', 'reviewer_rating',\n",
       "       'Product'],\n",
       "      dtype='object')"
      ]
     },
     "execution_count": 6,
     "metadata": {},
     "output_type": "execute_result"
    }
   ],
   "source": [
    "data_combined.columns"
   ]
  },
  {
   "cell_type": "code",
   "execution_count": 7,
   "metadata": {},
   "outputs": [
    {
     "data": {
      "text/plain": [
       "(20219, 9)"
      ]
     },
     "execution_count": 7,
     "metadata": {},
     "output_type": "execute_result"
    }
   ],
   "source": [
    "data_combined.shape"
   ]
  },
  {
   "cell_type": "code",
   "execution_count": 8,
   "metadata": {},
   "outputs": [
    {
     "name": "stdout",
     "output_type": "stream",
     "text": [
      "Summary Statistics for Ratings:\n",
      "          reviewer_rating          \n",
      "                     mean  min  max\n",
      "Product                            \n",
      "Badminton        4.181028  1.0  5.0\n",
      "Tawa             4.490153  3.0  5.0\n",
      "Tea              4.400000  1.0  5.0\n"
     ]
    },
    {
     "data": {
      "image/png": "[encoded data removed]",
      "text/plain": [
       "<Figure size 1000x600 with 1 Axes>"
      ]
     },
     "metadata": {},
     "output_type": "display_data"
    },
    {
     "data": {
      "image/png": "[encoded data removed]",
      "text/plain": [
       "<Figure size 1000x600 with 1 Axes>"
      ]
     },
     "metadata": {},
     "output_type": "display_data"
    }
   ],
   "source": [
    "import matplotlib.pyplot as plt\n",
    "import seaborn as sns\n",
    "\n",
    "# Check summary statistics\n",
    "print(\"Summary Statistics for Ratings:\")\n",
    "print(data_combined.groupby('Product').agg({'reviewer_rating': ['mean', 'min', 'max']}))\n",
    "\n",
    "# Distribution of Ratings\n",
    "plt.figure(figsize=(10, 6))\n",
    "sns.histplot(data=data_combined, x='reviewer_rating', hue='Product', multiple='stack', bins=5)\n",
    "plt.title('Distribution of Ratings for Different Products')\n",
    "plt.xlabel('Ratings')\n",
    "plt.ylabel('Count')\n",
    "plt.show()\n",
    "\n",
    "# Up Votes vs Down Votes\n",
    "plt.figure(figsize=(10, 6))\n",
    "sns.scatterplot(data=data_combined, x='up_votes', y='down_votes', hue='Product')\n",
    "plt.title('Up Votes vs Down Votes for Different Products')\n",
    "plt.xlabel('Up Votes')\n",
    "plt.ylabel('Down Votes')\n",
    "plt.show()"
   ]
  },
  {
   "cell_type": "code",
   "execution_count": 9,
   "metadata": {},
   "outputs": [
    {
     "name": "stderr",
     "output_type": "stream",
     "text": [
      "[nltk_data] Downloading package punkt to\n",
      "[nltk_data]     C:\\Users\\Dell\\AppData\\Roaming\\nltk_data...\n",
      "[nltk_data]   Package punkt is already up-to-date!\n",
      "[nltk_data] Downloading package stopwords to\n",
      "[nltk_data]     C:\\Users\\Dell\\AppData\\Roaming\\nltk_data...\n",
      "[nltk_data]   Package stopwords is already up-to-date!\n",
      "[nltk_data] Downloading package wordnet to\n",
      "[nltk_data]     C:\\Users\\Dell\\AppData\\Roaming\\nltk_data...\n",
      "[nltk_data]   Package wordnet is already up-to-date!\n"
     ]
    },
    {
     "name": "stdout",
     "output_type": "stream",
     "text": [
      "                                         review_text  \\\n",
      "0  Nice product, good quality, but price is now r...   \n",
      "1  They didn't supplied Yonex Mavis 350. Outside ...   \n",
      "2  Worst product. Damaged shuttlecocks packed in ...   \n",
      "3  Quite O. K. , but nowadays  the quality of the...   \n",
      "4  Over pricedJust â?¹620 ..from retailer.I didn'...   \n",
      "\n",
      "                                 cleaned_review_text  \n",
      "0  [nice, product, good, quality, price, rising, ...  \n",
      "1  [didnt, supplied, yonex, mavis, outside, cover...  \n",
      "2  [worst, product, damaged, shuttlecock, packed,...  \n",
      "3  [quite, k, nowadays, quality, cork, like, year...  \n",
      "4  [pricedjust, â¹, retaileri, didnt, understand,...  \n"
     ]
    }
   ],
   "source": [
    "import re\n",
    "import nltk\n",
    "from nltk.corpus import stopwords\n",
    "from nltk.tokenize import word_tokenize\n",
    "from nltk.stem import WordNetLemmatizer\n",
    "\n",
    "nltk.download('punkt')\n",
    "nltk.download('stopwords')\n",
    "nltk.download('wordnet')\n",
    "\n",
    "def preprocess_text(text):\n",
    "    if isinstance(text, str):\n",
    "        # Text Cleaning: Remove special characters, punctuation, and stopwords\n",
    "        text = re.sub(r'[^\\w\\s]', '', text)  # Remove special characters\n",
    "        text = re.sub(r'\\d+', '', text)  # Remove digits\n",
    "        text = text.lower()  # Convert text to lowercase\n",
    "        stop_words = set(stopwords.words('english'))\n",
    "        word_tokens = word_tokenize(text)\n",
    "        filtered_text = [word for word in word_tokens if word not in stop_words]\n",
    "\n",
    "        # Text Normalization: Lemmatization\n",
    "        lemmatizer = WordNetLemmatizer()\n",
    "        normalized_text = [lemmatizer.lemmatize(word) for word in filtered_text]\n",
    "\n",
    "        return normalized_text\n",
    "    else:\n",
    "        return ''\n",
    "\n",
    "# Apply preprocessing function to the 'review_text' column\n",
    "data_combined['cleaned_review_text'] = data_combined['review_text'].apply(preprocess_text)\n",
    "\n",
    "# Preview the preprocessed text\n",
    "print(data_combined[['review_text', 'cleaned_review_text']].head())\n"
   ]
  },
  {
   "cell_type": "code",
   "execution_count": 10,
   "metadata": {},
   "outputs": [
    {
     "data": {
      "text/plain": [
       "Index(['reviewer_name', 'review_title', 'place_of_review', 'up_votes',\n",
       "       'down_votes', 'date_of_review', 'review_text', 'reviewer_rating',\n",
       "       'Product', 'cleaned_review_text'],\n",
       "      dtype='object')"
      ]
     },
     "execution_count": 10,
     "metadata": {},
     "output_type": "execute_result"
    }
   ],
   "source": [
    "data_combined.columns"
   ]
  },
  {
   "cell_type": "code",
   "execution_count": 11,
   "metadata": {},
   "outputs": [
    {
     "data": {
      "text/html": [
       "<div>\n",
       "<style scoped>\n",
       "    .dataframe tbody tr th:only-of-type {\n",
       "        vertical-align: middle;\n",
       "    }\n",
       "\n",
       "    .dataframe tbody tr th {\n",
       "        vertical-align: top;\n",
       "    }\n",
       "\n",
       "    .dataframe thead th {\n",
       "        text-align: right;\n",
       "    }\n",
       "</style>\n",
       "<table border=\"1\" class=\"dataframe\">\n",
       "  <thead>\n",
       "    <tr style=\"text-align: right;\">\n",
       "      <th></th>\n",
       "      <th>reviewer_name</th>\n",
       "      <th>review_title</th>\n",
       "      <th>place_of_review</th>\n",
       "      <th>up_votes</th>\n",
       "      <th>down_votes</th>\n",
       "      <th>date_of_review</th>\n",
       "      <th>review_text</th>\n",
       "      <th>reviewer_rating</th>\n",
       "      <th>Product</th>\n",
       "      <th>cleaned_review_text</th>\n",
       "    </tr>\n",
       "  </thead>\n",
       "  <tbody>\n",
       "    <tr>\n",
       "      <th>0</th>\n",
       "      <td>Kamal Suresh</td>\n",
       "      <td>Nice product</td>\n",
       "      <td>Certified Buyer, Chirakkal</td>\n",
       "      <td>889.0</td>\n",
       "      <td>64.0</td>\n",
       "      <td>Feb 2021</td>\n",
       "      <td>Nice product, good quality, but price is now r...</td>\n",
       "      <td>4.0</td>\n",
       "      <td>Badminton</td>\n",
       "      <td>[nice, product, good, quality, price, rising, ...</td>\n",
       "    </tr>\n",
       "    <tr>\n",
       "      <th>1</th>\n",
       "      <td>Flipkart Customer</td>\n",
       "      <td>Don't waste your money</td>\n",
       "      <td>Certified Buyer, Hyderabad</td>\n",
       "      <td>109.0</td>\n",
       "      <td>6.0</td>\n",
       "      <td>Feb 2021</td>\n",
       "      <td>They didn't supplied Yonex Mavis 350. Outside ...</td>\n",
       "      <td>1.0</td>\n",
       "      <td>Badminton</td>\n",
       "      <td>[didnt, supplied, yonex, mavis, outside, cover...</td>\n",
       "    </tr>\n",
       "    <tr>\n",
       "      <th>2</th>\n",
       "      <td>A. S. Raja Srinivasan</td>\n",
       "      <td>Did not meet expectations</td>\n",
       "      <td>Certified Buyer, Dharmapuri</td>\n",
       "      <td>42.0</td>\n",
       "      <td>3.0</td>\n",
       "      <td>Apr 2021</td>\n",
       "      <td>Worst product. Damaged shuttlecocks packed in ...</td>\n",
       "      <td>1.0</td>\n",
       "      <td>Badminton</td>\n",
       "      <td>[worst, product, damaged, shuttlecock, packed,...</td>\n",
       "    </tr>\n",
       "    <tr>\n",
       "      <th>3</th>\n",
       "      <td>Suresh Narayanasamy</td>\n",
       "      <td>Fair</td>\n",
       "      <td>Certified Buyer, Chennai</td>\n",
       "      <td>25.0</td>\n",
       "      <td>1.0</td>\n",
       "      <td>NaN</td>\n",
       "      <td>Quite O. K. , but nowadays  the quality of the...</td>\n",
       "      <td>3.0</td>\n",
       "      <td>Badminton</td>\n",
       "      <td>[quite, k, nowadays, quality, cork, like, year...</td>\n",
       "    </tr>\n",
       "    <tr>\n",
       "      <th>4</th>\n",
       "      <td>ASHIK P A</td>\n",
       "      <td>Over priced</td>\n",
       "      <td>NaN</td>\n",
       "      <td>147.0</td>\n",
       "      <td>24.0</td>\n",
       "      <td>Apr 2016</td>\n",
       "      <td>Over pricedJust â?¹620 ..from retailer.I didn'...</td>\n",
       "      <td>1.0</td>\n",
       "      <td>Badminton</td>\n",
       "      <td>[pricedjust, â¹, retaileri, didnt, understand,...</td>\n",
       "    </tr>\n",
       "  </tbody>\n",
       "</table>\n",
       "</div>"
      ],
      "text/plain": [
       "            reviewer_name               review_title  \\\n",
       "0            Kamal Suresh               Nice product   \n",
       "1       Flipkart Customer     Don't waste your money   \n",
       "2  A. S. Raja Srinivasan   Did not meet expectations   \n",
       "3     Suresh Narayanasamy                       Fair   \n",
       "4               ASHIK P A                Over priced   \n",
       "\n",
       "               place_of_review  up_votes  down_votes date_of_review  \\\n",
       "0   Certified Buyer, Chirakkal     889.0        64.0       Feb 2021   \n",
       "1   Certified Buyer, Hyderabad     109.0         6.0       Feb 2021   \n",
       "2  Certified Buyer, Dharmapuri      42.0         3.0       Apr 2021   \n",
       "3     Certified Buyer, Chennai      25.0         1.0            NaN   \n",
       "4                          NaN     147.0        24.0       Apr 2016   \n",
       "\n",
       "                                         review_text  reviewer_rating  \\\n",
       "0  Nice product, good quality, but price is now r...              4.0   \n",
       "1  They didn't supplied Yonex Mavis 350. Outside ...              1.0   \n",
       "2  Worst product. Damaged shuttlecocks packed in ...              1.0   \n",
       "3  Quite O. K. , but nowadays  the quality of the...              3.0   \n",
       "4  Over pricedJust â?¹620 ..from retailer.I didn'...              1.0   \n",
       "\n",
       "     Product                                cleaned_review_text  \n",
       "0  Badminton  [nice, product, good, quality, price, rising, ...  \n",
       "1  Badminton  [didnt, supplied, yonex, mavis, outside, cover...  \n",
       "2  Badminton  [worst, product, damaged, shuttlecock, packed,...  \n",
       "3  Badminton  [quite, k, nowadays, quality, cork, like, year...  \n",
       "4  Badminton  [pricedjust, â¹, retaileri, didnt, understand,...  "
      ]
     },
     "execution_count": 11,
     "metadata": {},
     "output_type": "execute_result"
    }
   ],
   "source": [
    "data_combined.head()"
   ]
  },
  {
   "cell_type": "code",
   "execution_count": 12,
   "metadata": {},
   "outputs": [
    {
     "data": {
      "text/plain": [
       "['nice',\n",
       " 'product',\n",
       " 'good',\n",
       " 'quality',\n",
       " 'price',\n",
       " 'rising',\n",
       " 'bad',\n",
       " 'sign',\n",
       " 'affordable',\n",
       " 'price',\n",
       " 'especially',\n",
       " 'play',\n",
       " 'everyday',\n",
       " 'kindly',\n",
       " 'help',\n",
       " 'u',\n",
       " 'term',\n",
       " 'price',\n",
       " 'thank',\n",
       " 'youread']"
      ]
     },
     "execution_count": 12,
     "metadata": {},
     "output_type": "execute_result"
    }
   ],
   "source": [
    "data_combined['cleaned_review_text'][0]"
   ]
  },
  {
   "cell_type": "code",
   "execution_count": 13,
   "metadata": {},
   "outputs": [
    {
     "name": "stdout",
     "output_type": "stream",
     "text": [
      "nice product good quality price rising bad sign affordable price especially play everyday kindly help u term price thank youread\n"
     ]
    }
   ],
   "source": [
    "text = ' '.join(data_combined['cleaned_review_text'][0])\n",
    "print(text)"
   ]
  },
  {
   "cell_type": "code",
   "execution_count": 14,
   "metadata": {},
   "outputs": [
    {
     "name": "stderr",
     "output_type": "stream",
     "text": [
      "[nltk_data] Downloading package vader_lexicon to\n",
      "[nltk_data]     C:\\Users\\Dell\\AppData\\Roaming\\nltk_data...\n",
      "[nltk_data]   Package vader_lexicon is already up-to-date!\n"
     ]
    },
    {
     "name": "stdout",
     "output_type": "stream",
     "text": [
      "            reviewer_name               review_title  \\\n",
      "0            Kamal Suresh               Nice product   \n",
      "1       Flipkart Customer     Don't waste your money   \n",
      "2  A. S. Raja Srinivasan   Did not meet expectations   \n",
      "3     Suresh Narayanasamy                       Fair   \n",
      "4               ASHIK P A                Over priced   \n",
      "\n",
      "               place_of_review  up_votes  down_votes date_of_review  \\\n",
      "0   Certified Buyer, Chirakkal     889.0        64.0       Feb 2021   \n",
      "1   Certified Buyer, Hyderabad     109.0         6.0       Feb 2021   \n",
      "2  Certified Buyer, Dharmapuri      42.0         3.0       Apr 2021   \n",
      "3     Certified Buyer, Chennai      25.0         1.0            NaN   \n",
      "4                          NaN     147.0        24.0       Apr 2016   \n",
      "\n",
      "                                         review_text  reviewer_rating  \\\n",
      "0  Nice product, good quality, but price is now r...              4.0   \n",
      "1  They didn't supplied Yonex Mavis 350. Outside ...              1.0   \n",
      "2  Worst product. Damaged shuttlecocks packed in ...              1.0   \n",
      "3  Quite O. K. , but nowadays  the quality of the...              3.0   \n",
      "4  Over pricedJust â?¹620 ..from retailer.I didn'...              1.0   \n",
      "\n",
      "     Product                                cleaned_review_text  sentiments  \n",
      "0  Badminton  [nice, product, good, quality, price, rising, ...           1  \n",
      "1  Badminton  [didnt, supplied, yonex, mavis, outside, cover...           0  \n",
      "2  Badminton  [worst, product, damaged, shuttlecock, packed,...           0  \n",
      "3  Badminton  [quite, k, nowadays, quality, cork, like, year...           1  \n",
      "4  Badminton  [pricedjust, â¹, retaileri, didnt, understand,...           0  \n"
     ]
    }
   ],
   "source": [
    "import nltk\n",
    "from nltk.sentiment.vader import SentimentIntensityAnalyzer\n",
    "\n",
    "# Initialize the VADER sentiment analyzer\n",
    "nltk.download('vader_lexicon')\n",
    "sid = SentimentIntensityAnalyzer()\n",
    "\n",
    "# Define a function to analyze the sentiment of each review text\n",
    "\n",
    "def analyze_sentiment(word_list):\n",
    "    # Convert the list of words into a single string\n",
    "    text = ' '.join(word_list)\n",
    "    \n",
    "    compound_score = sid.polarity_scores(text)['compound']\n",
    "    \n",
    "    # Assign positive sentiment if compound score is greater than 0, else negative sentiment\n",
    "    if compound_score > 0:\n",
    "        return 1  # Positive sentiment\n",
    "    else:\n",
    "        return 0  # Negative sentiment\n",
    "\n",
    "# Apply the function to the 'cleaned_review_text' column\n",
    "data_combined['sentiments'] = data_combined['cleaned_review_text'].apply(analyze_sentiment)\n",
    "\n",
    "# Display the DataFrame with the new 'sentiments' column\n",
    "print(data_combined.head())\n"
   ]
  },
  {
   "cell_type": "code",
   "execution_count": 15,
   "metadata": {},
   "outputs": [],
   "source": [
    "from sklearn.model_selection import train_test_split\n",
    "# Step 1: Split Data\n",
    "# Fill NaN values with an empty string\n",
    "data_combined['review_text'] = data_combined['review_text'].fillna('')\n",
    "\n",
    "# Or drop rows with NaN values\n",
    "data_combined = data_combined.dropna(subset=['review_text'])\n",
    "X = data_combined['review_text']\n",
    "y = data_combined['sentiments']\n",
    "X_train, X_test, y_train, y_test = train_test_split(X, y, test_size=0.2, random_state=42)\n"
   ]
  },
  {
   "cell_type": "code",
   "execution_count": 16,
   "metadata": {},
   "outputs": [
    {
     "name": "stdout",
     "output_type": "stream",
     "text": [
      "F1-score for Logistic Regression: 0.9750435287289612\n",
      "F1-score for Random Forest: 0.972377824995171\n",
      "F1-score for Naive Bayes: 0.9492112350904194\n"
     ]
    }
   ],
   "source": [
    "\n",
    "from sklearn.pipeline import Pipeline\n",
    "from sklearn.feature_extraction.text import TfidfVectorizer\n",
    "from sklearn.ensemble import RandomForestClassifier\n",
    "from sklearn.linear_model import LogisticRegression\n",
    "from sklearn.metrics import f1_score\n",
    "from sklearn.naive_bayes import MultinomialNB\n",
    "import pickle\n",
    "\n",
    "\n",
    "# Define a list of classifiers to try\n",
    "classifiers = [\n",
    "    ('Logistic Regression', LogisticRegression()),\n",
    "    ('Random Forest', RandomForestClassifier()),\n",
    "    ('Naive Bayes', MultinomialNB())\n",
    "]\n",
    "\n",
    "best_model = None\n",
    "best_f1_score = 0\n",
    "\n",
    "# Iterate over classifiers\n",
    "for clf_name, clf in classifiers:\n",
    "    # Define the pipeline\n",
    "    pipeline = Pipeline([\n",
    "        ('tfidf', TfidfVectorizer()),\n",
    "        ('clf', clf)\n",
    "    ])\n",
    "    \n",
    "    # Train the pipeline\n",
    "    pipeline.fit(X_train, y_train)\n",
    "    \n",
    "    # Predict on test set\n",
    "    y_pred = pipeline.predict(X_test)\n",
    "    \n",
    "    # Calculate F1-score\n",
    "    f1 = f1_score(y_test, y_pred)\n",
    "    print(f\"F1-score for {clf_name}: {f1}\")\n",
    "    \n",
    "    # Check if this model is the best so far\n",
    "    if f1 > best_f1_score:\n",
    "        best_f1_score = f1\n",
    "        best_model = pipeline\n",
    "\n",
    "# Pickle the best model\n",
    "with open('best_model.pkl', 'wb') as f:\n",
    "    pickle.dump(best_model, f)\n"
   ]
  },
  {
   "cell_type": "code",
   "execution_count": 17,
   "metadata": {},
   "outputs": [
    {
     "name": "stdout",
     "output_type": "stream",
     "text": [
      "Classifier: Logistic Regression\n",
      "Train F1-score: 0.9824\n",
      "Test F1-score: 0.9750\n",
      "\n",
      "Classifier: Random Forest\n",
      "Train F1-score: 0.9966\n",
      "Test F1-score: 0.9712\n",
      "\n",
      "Classifier: Naive Bayes\n",
      "Train F1-score: 0.9653\n",
      "Test F1-score: 0.9492\n",
      "\n"
     ]
    }
   ],
   "source": [
    "from sklearn.pipeline import Pipeline\n",
    "from sklearn.feature_extraction.text import TfidfVectorizer\n",
    "from sklearn.linear_model import LogisticRegression\n",
    "from sklearn.ensemble import RandomForestClassifier\n",
    "from sklearn.naive_bayes import MultinomialNB\n",
    "from sklearn.metrics import f1_score\n",
    "\n",
    "# Define a list of classifiers to evaluate\n",
    "classifiers = [\n",
    "    ('Logistic Regression', LogisticRegression()),\n",
    "    ('Random Forest', RandomForestClassifier()),\n",
    "    ('Naive Bayes', MultinomialNB())\n",
    "]\n",
    "\n",
    "best_f1_score = 0\n",
    "best_model = None\n",
    "\n",
    "# Iterate over different classifiers\n",
    "for name, classifier in classifiers:\n",
    "    # Define the pipeline\n",
    "    pipeline = Pipeline([\n",
    "        ('tfidf', TfidfVectorizer()),  # TF-IDF Vectorization\n",
    "        ('clf', classifier)  # Classifier\n",
    "    ])\n",
    "    \n",
    "    # Train the model\n",
    "    pipeline.fit(X_train, y_train)\n",
    "    \n",
    "    # Predictions on training and testing sets\n",
    "    y_train_pred = pipeline.predict(X_train)\n",
    "    y_test_pred = pipeline.predict(X_test)\n",
    "    \n",
    "    # Calculate F1-score on training and testing sets\n",
    "    train_f1_score = f1_score(y_train, y_train_pred)\n",
    "    test_f1_score = f1_score(y_test, y_test_pred)\n",
    "    \n",
    "    print(f\"Classifier: {name}\")\n",
    "    print(f\"Train F1-score: {train_f1_score:.4f}\")\n",
    "    print(f\"Test F1-score: {test_f1_score:.4f}\")\n",
    "    print()\n",
    "    \n",
    "    # Check if the current model has the best F1-score on the testing set\n",
    "    if test_f1_score > best_f1_score:\n",
    "        best_f1_score = test_f1_score\n",
    "        best_model = pipeline\n",
    "\n",
    "# Pickle the best model\n",
    "import pickle\n",
    "with open('best_model.pkl', 'wb') as file:\n",
    "    pickle.dump(best_model, file)\n"
   ]
  },
  {
   "cell_type": "code",
   "execution_count": 18,
   "metadata": {},
   "outputs": [],
   "source": [
    "import pickle\n",
    "\n",
    "# Load the pickled model\n",
    "with open('best_model.pkl', 'rb') as file:\n",
    "    model = pickle.load(file)\n",
    "\n",
    "\n"
   ]
  },
  {
   "cell_type": "code",
   "execution_count": 19,
   "metadata": {},
   "outputs": [],
   "source": [
    "# Define preprocess_text function\n",
    "def preprocess_text(text):\n",
    "    # Implement your text preprocessing logic here\n",
    "    processed_text = text.lower()  # Convert text to lowercase\n",
    "    # Other preprocessing steps...\n",
    "    return processed_text"
   ]
  },
  {
   "cell_type": "code",
   "execution_count": 20,
   "metadata": {},
   "outputs": [
    {
     "name": "stdout",
     "output_type": "stream",
     "text": [
      "Predicted sentiment: Positive\n"
     ]
    }
   ],
   "source": [
    "\n",
    "# Load the pickled model\n",
    "with open('best_model.pkl', 'rb') as file:\n",
    "    model = pickle.load(file)\n",
    "\n",
    "# Take user input text\n",
    "user_input_text = input(\"Enter your text: \")\n",
    "\n",
    "# Preprocess the input text\n",
    "processed_input_text = preprocess_text(user_input_text)\n",
    "\n",
    "# Use the loaded model to predict the sentiment of the input text\n",
    "predicted_sentiment = model.predict([processed_input_text])\n",
    "\n",
    "# Map predicted sentiment to human-readable labels\n",
    "predicted_sentiment_label = \"Positive\" if predicted_sentiment[0] == 1 else \"Negative\"\n",
    "\n",
    "# Print the predicted sentiment\n",
    "print(\"Predicted sentiment:\", predicted_sentiment_label)\n"
   ]
  },
  {
   "cell_type": "code",
   "execution_count": null,
   "metadata": {},
   "outputs": [],
   "source": []
  }
 ],
 "metadata": {
  "kernelspec": {
   "display_name": "Python 3",
   "language": "python",
   "name": "python3"
  },
  "language_info": {
   "codemirror_mode": {
    "name": "ipython",
    "version": 3
   },
   "file_extension": ".py",
   "mimetype": "text/x-python",
   "name": "python",
   "nbconvert_exporter": "python",
   "pygments_lexer": "ipython3",
   "version": "3.8.8"
  }
 },
 "nbformat": 4,
 "nbformat_minor": 2
}
